{
  "cells": [
    {
      "cell_type": "markdown",
      "metadata": {
        "id": "view-in-github",
        "colab_type": "text"
      },
      "source": [
        "<a href=\"https://colab.research.google.com/github/Bjoshua25/WORLD-POPULATION-GROWTH-RATE-PREDICTION/blob/main/World_Population_Growth_Prediction.ipynb\" target=\"_parent\"><img src=\"https://colab.research.google.com/assets/colab-badge.svg\" alt=\"Open In Colab\"/></a>"
      ]
    },
    {
      "cell_type": "markdown",
      "id": "f662d169",
      "metadata": {
        "id": "f662d169"
      },
      "source": [
        "# World Population Growth Rate Prediction | Decision trees"
      ]
    },
    {
      "cell_type": "markdown",
      "id": "a275af89",
      "metadata": {
        "id": "a275af89"
      },
      "source": [
        "We begin by importing the necessary packages for the challenges."
      ]
    },
    {
      "cell_type": "code",
      "execution_count": 1,
      "id": "7918a99c",
      "metadata": {
        "id": "7918a99c"
      },
      "outputs": [],
      "source": [
        "import numpy as np\n",
        "import pandas as pd\n",
        "from sklearn.tree import DecisionTreeRegressor"
      ]
    },
    {
      "cell_type": "markdown",
      "id": "022dbac7",
      "metadata": {
        "id": "022dbac7"
      },
      "source": [
        "## The dataset\n",
        "\n",
        "The dataset contains population data for various countries over the years from 1960 to 2017. Each row corresponds to a specific country, identified by a country code, and each column represents a year. The values within the dataset represent the population count for each country in the corresponding year."
      ]
    },
    {
      "cell_type": "code",
      "execution_count": 2,
      "id": "9c17898c",
      "metadata": {
        "colab": {
          "base_uri": "https://localhost:8080/",
          "height": 304
        },
        "id": "9c17898c",
        "outputId": "3c71f149-b482-480d-c101-c06d886984c0"
      },
      "outputs": [
        {
          "output_type": "execute_result",
          "data": {
            "text/plain": [
              "                   1960       1961       1962       1963       1964  \\\n",
              "Country Code                                                          \n",
              "ABW             54211.0    55438.0    56225.0    56695.0    57032.0   \n",
              "AFG           8996351.0  9166764.0  9345868.0  9533954.0  9731361.0   \n",
              "AGO           5643182.0  5753024.0  5866061.0  5980417.0  6093321.0   \n",
              "ALB           1608800.0  1659800.0  1711319.0  1762621.0  1814135.0   \n",
              "AND             13411.0    14375.0    15370.0    16412.0    17469.0   \n",
              "\n",
              "                   1965        1966        1967        1968        1969  ...  \\\n",
              "Country Code                                                             ...   \n",
              "ABW             57360.0     57715.0     58055.0     58386.0     58726.0  ...   \n",
              "AFG           9938414.0  10152331.0  10372630.0  10604346.0  10854428.0  ...   \n",
              "AGO           6203299.0   6309770.0   6414995.0   6523791.0   6642632.0  ...   \n",
              "ALB           1864791.0   1914573.0   1965598.0   2022272.0   2081695.0  ...   \n",
              "AND             18549.0     19647.0     20758.0     21890.0     23058.0  ...   \n",
              "\n",
              "                    2008        2009        2010        2011        2012  \\\n",
              "Country Code                                                               \n",
              "ABW             101353.0    101453.0    101669.0    102053.0    102577.0   \n",
              "AFG           27294031.0  28004331.0  28803167.0  29708599.0  30696958.0   \n",
              "AGO           21759420.0  22549547.0  23369131.0  24218565.0  25096150.0   \n",
              "ALB            2947314.0   2927519.0   2913021.0   2905195.0   2900401.0   \n",
              "AND              83861.0     84462.0     84449.0     83751.0     82431.0   \n",
              "\n",
              "                    2013        2014        2015        2016        2017  \n",
              "Country Code                                                              \n",
              "ABW             103187.0    103795.0    104341.0    104822.0    105264.0  \n",
              "AFG           31731688.0  32758020.0  33736494.0  34656032.0  35530081.0  \n",
              "AGO           25998340.0  26920466.0  27859305.0  28813463.0  29784193.0  \n",
              "ALB            2895092.0   2889104.0   2880703.0   2876101.0   2873457.0  \n",
              "AND              80788.0     79223.0     78014.0     77281.0     76965.0  \n",
              "\n",
              "[5 rows x 58 columns]"
            ],
            "text/html": [
              "\n",
              "  <div id=\"df-ad55989a-f095-4d67-b1bd-eea16d84708b\" class=\"colab-df-container\">\n",
              "    <div>\n",
              "<style scoped>\n",
              "    .dataframe tbody tr th:only-of-type {\n",
              "        vertical-align: middle;\n",
              "    }\n",
              "\n",
              "    .dataframe tbody tr th {\n",
              "        vertical-align: top;\n",
              "    }\n",
              "\n",
              "    .dataframe thead th {\n",
              "        text-align: right;\n",
              "    }\n",
              "</style>\n",
              "<table border=\"1\" class=\"dataframe\">\n",
              "  <thead>\n",
              "    <tr style=\"text-align: right;\">\n",
              "      <th></th>\n",
              "      <th>1960</th>\n",
              "      <th>1961</th>\n",
              "      <th>1962</th>\n",
              "      <th>1963</th>\n",
              "      <th>1964</th>\n",
              "      <th>1965</th>\n",
              "      <th>1966</th>\n",
              "      <th>1967</th>\n",
              "      <th>1968</th>\n",
              "      <th>1969</th>\n",
              "      <th>...</th>\n",
              "      <th>2008</th>\n",
              "      <th>2009</th>\n",
              "      <th>2010</th>\n",
              "      <th>2011</th>\n",
              "      <th>2012</th>\n",
              "      <th>2013</th>\n",
              "      <th>2014</th>\n",
              "      <th>2015</th>\n",
              "      <th>2016</th>\n",
              "      <th>2017</th>\n",
              "    </tr>\n",
              "    <tr>\n",
              "      <th>Country Code</th>\n",
              "      <th></th>\n",
              "      <th></th>\n",
              "      <th></th>\n",
              "      <th></th>\n",
              "      <th></th>\n",
              "      <th></th>\n",
              "      <th></th>\n",
              "      <th></th>\n",
              "      <th></th>\n",
              "      <th></th>\n",
              "      <th></th>\n",
              "      <th></th>\n",
              "      <th></th>\n",
              "      <th></th>\n",
              "      <th></th>\n",
              "      <th></th>\n",
              "      <th></th>\n",
              "      <th></th>\n",
              "      <th></th>\n",
              "      <th></th>\n",
              "      <th></th>\n",
              "    </tr>\n",
              "  </thead>\n",
              "  <tbody>\n",
              "    <tr>\n",
              "      <th>ABW</th>\n",
              "      <td>54211.0</td>\n",
              "      <td>55438.0</td>\n",
              "      <td>56225.0</td>\n",
              "      <td>56695.0</td>\n",
              "      <td>57032.0</td>\n",
              "      <td>57360.0</td>\n",
              "      <td>57715.0</td>\n",
              "      <td>58055.0</td>\n",
              "      <td>58386.0</td>\n",
              "      <td>58726.0</td>\n",
              "      <td>...</td>\n",
              "      <td>101353.0</td>\n",
              "      <td>101453.0</td>\n",
              "      <td>101669.0</td>\n",
              "      <td>102053.0</td>\n",
              "      <td>102577.0</td>\n",
              "      <td>103187.0</td>\n",
              "      <td>103795.0</td>\n",
              "      <td>104341.0</td>\n",
              "      <td>104822.0</td>\n",
              "      <td>105264.0</td>\n",
              "    </tr>\n",
              "    <tr>\n",
              "      <th>AFG</th>\n",
              "      <td>8996351.0</td>\n",
              "      <td>9166764.0</td>\n",
              "      <td>9345868.0</td>\n",
              "      <td>9533954.0</td>\n",
              "      <td>9731361.0</td>\n",
              "      <td>9938414.0</td>\n",
              "      <td>10152331.0</td>\n",
              "      <td>10372630.0</td>\n",
              "      <td>10604346.0</td>\n",
              "      <td>10854428.0</td>\n",
              "      <td>...</td>\n",
              "      <td>27294031.0</td>\n",
              "      <td>28004331.0</td>\n",
              "      <td>28803167.0</td>\n",
              "      <td>29708599.0</td>\n",
              "      <td>30696958.0</td>\n",
              "      <td>31731688.0</td>\n",
              "      <td>32758020.0</td>\n",
              "      <td>33736494.0</td>\n",
              "      <td>34656032.0</td>\n",
              "      <td>35530081.0</td>\n",
              "    </tr>\n",
              "    <tr>\n",
              "      <th>AGO</th>\n",
              "      <td>5643182.0</td>\n",
              "      <td>5753024.0</td>\n",
              "      <td>5866061.0</td>\n",
              "      <td>5980417.0</td>\n",
              "      <td>6093321.0</td>\n",
              "      <td>6203299.0</td>\n",
              "      <td>6309770.0</td>\n",
              "      <td>6414995.0</td>\n",
              "      <td>6523791.0</td>\n",
              "      <td>6642632.0</td>\n",
              "      <td>...</td>\n",
              "      <td>21759420.0</td>\n",
              "      <td>22549547.0</td>\n",
              "      <td>23369131.0</td>\n",
              "      <td>24218565.0</td>\n",
              "      <td>25096150.0</td>\n",
              "      <td>25998340.0</td>\n",
              "      <td>26920466.0</td>\n",
              "      <td>27859305.0</td>\n",
              "      <td>28813463.0</td>\n",
              "      <td>29784193.0</td>\n",
              "    </tr>\n",
              "    <tr>\n",
              "      <th>ALB</th>\n",
              "      <td>1608800.0</td>\n",
              "      <td>1659800.0</td>\n",
              "      <td>1711319.0</td>\n",
              "      <td>1762621.0</td>\n",
              "      <td>1814135.0</td>\n",
              "      <td>1864791.0</td>\n",
              "      <td>1914573.0</td>\n",
              "      <td>1965598.0</td>\n",
              "      <td>2022272.0</td>\n",
              "      <td>2081695.0</td>\n",
              "      <td>...</td>\n",
              "      <td>2947314.0</td>\n",
              "      <td>2927519.0</td>\n",
              "      <td>2913021.0</td>\n",
              "      <td>2905195.0</td>\n",
              "      <td>2900401.0</td>\n",
              "      <td>2895092.0</td>\n",
              "      <td>2889104.0</td>\n",
              "      <td>2880703.0</td>\n",
              "      <td>2876101.0</td>\n",
              "      <td>2873457.0</td>\n",
              "    </tr>\n",
              "    <tr>\n",
              "      <th>AND</th>\n",
              "      <td>13411.0</td>\n",
              "      <td>14375.0</td>\n",
              "      <td>15370.0</td>\n",
              "      <td>16412.0</td>\n",
              "      <td>17469.0</td>\n",
              "      <td>18549.0</td>\n",
              "      <td>19647.0</td>\n",
              "      <td>20758.0</td>\n",
              "      <td>21890.0</td>\n",
              "      <td>23058.0</td>\n",
              "      <td>...</td>\n",
              "      <td>83861.0</td>\n",
              "      <td>84462.0</td>\n",
              "      <td>84449.0</td>\n",
              "      <td>83751.0</td>\n",
              "      <td>82431.0</td>\n",
              "      <td>80788.0</td>\n",
              "      <td>79223.0</td>\n",
              "      <td>78014.0</td>\n",
              "      <td>77281.0</td>\n",
              "      <td>76965.0</td>\n",
              "    </tr>\n",
              "  </tbody>\n",
              "</table>\n",
              "<p>5 rows × 58 columns</p>\n",
              "</div>\n",
              "    <div class=\"colab-df-buttons\">\n",
              "\n",
              "  <div class=\"colab-df-container\">\n",
              "    <button class=\"colab-df-convert\" onclick=\"convertToInteractive('df-ad55989a-f095-4d67-b1bd-eea16d84708b')\"\n",
              "            title=\"Convert this dataframe to an interactive table.\"\n",
              "            style=\"display:none;\">\n",
              "\n",
              "  <svg xmlns=\"http://www.w3.org/2000/svg\" height=\"24px\" viewBox=\"0 -960 960 960\">\n",
              "    <path d=\"M120-120v-720h720v720H120Zm60-500h600v-160H180v160Zm220 220h160v-160H400v160Zm0 220h160v-160H400v160ZM180-400h160v-160H180v160Zm440 0h160v-160H620v160ZM180-180h160v-160H180v160Zm440 0h160v-160H620v160Z\"/>\n",
              "  </svg>\n",
              "    </button>\n",
              "\n",
              "  <style>\n",
              "    .colab-df-container {\n",
              "      display:flex;\n",
              "      gap: 12px;\n",
              "    }\n",
              "\n",
              "    .colab-df-convert {\n",
              "      background-color: #E8F0FE;\n",
              "      border: none;\n",
              "      border-radius: 50%;\n",
              "      cursor: pointer;\n",
              "      display: none;\n",
              "      fill: #1967D2;\n",
              "      height: 32px;\n",
              "      padding: 0 0 0 0;\n",
              "      width: 32px;\n",
              "    }\n",
              "\n",
              "    .colab-df-convert:hover {\n",
              "      background-color: #E2EBFA;\n",
              "      box-shadow: 0px 1px 2px rgba(60, 64, 67, 0.3), 0px 1px 3px 1px rgba(60, 64, 67, 0.15);\n",
              "      fill: #174EA6;\n",
              "    }\n",
              "\n",
              "    .colab-df-buttons div {\n",
              "      margin-bottom: 4px;\n",
              "    }\n",
              "\n",
              "    [theme=dark] .colab-df-convert {\n",
              "      background-color: #3B4455;\n",
              "      fill: #D2E3FC;\n",
              "    }\n",
              "\n",
              "    [theme=dark] .colab-df-convert:hover {\n",
              "      background-color: #434B5C;\n",
              "      box-shadow: 0px 1px 3px 1px rgba(0, 0, 0, 0.15);\n",
              "      filter: drop-shadow(0px 1px 2px rgba(0, 0, 0, 0.3));\n",
              "      fill: #FFFFFF;\n",
              "    }\n",
              "  </style>\n",
              "\n",
              "    <script>\n",
              "      const buttonEl =\n",
              "        document.querySelector('#df-ad55989a-f095-4d67-b1bd-eea16d84708b button.colab-df-convert');\n",
              "      buttonEl.style.display =\n",
              "        google.colab.kernel.accessAllowed ? 'block' : 'none';\n",
              "\n",
              "      async function convertToInteractive(key) {\n",
              "        const element = document.querySelector('#df-ad55989a-f095-4d67-b1bd-eea16d84708b');\n",
              "        const dataTable =\n",
              "          await google.colab.kernel.invokeFunction('convertToInteractive',\n",
              "                                                    [key], {});\n",
              "        if (!dataTable) return;\n",
              "\n",
              "        const docLinkHtml = 'Like what you see? Visit the ' +\n",
              "          '<a target=\"_blank\" href=https://colab.research.google.com/notebooks/data_table.ipynb>data table notebook</a>'\n",
              "          + ' to learn more about interactive tables.';\n",
              "        element.innerHTML = '';\n",
              "        dataTable['output_type'] = 'display_data';\n",
              "        await google.colab.output.renderOutput(dataTable, element);\n",
              "        const docLink = document.createElement('div');\n",
              "        docLink.innerHTML = docLinkHtml;\n",
              "        element.appendChild(docLink);\n",
              "      }\n",
              "    </script>\n",
              "  </div>\n",
              "\n",
              "\n",
              "<div id=\"df-fda5db4f-3883-4e20-a35d-cca68caaeb6a\">\n",
              "  <button class=\"colab-df-quickchart\" onclick=\"quickchart('df-fda5db4f-3883-4e20-a35d-cca68caaeb6a')\"\n",
              "            title=\"Suggest charts\"\n",
              "            style=\"display:none;\">\n",
              "\n",
              "<svg xmlns=\"http://www.w3.org/2000/svg\" height=\"24px\"viewBox=\"0 0 24 24\"\n",
              "     width=\"24px\">\n",
              "    <g>\n",
              "        <path d=\"M19 3H5c-1.1 0-2 .9-2 2v14c0 1.1.9 2 2 2h14c1.1 0 2-.9 2-2V5c0-1.1-.9-2-2-2zM9 17H7v-7h2v7zm4 0h-2V7h2v10zm4 0h-2v-4h2v4z\"/>\n",
              "    </g>\n",
              "</svg>\n",
              "  </button>\n",
              "\n",
              "<style>\n",
              "  .colab-df-quickchart {\n",
              "      --bg-color: #E8F0FE;\n",
              "      --fill-color: #1967D2;\n",
              "      --hover-bg-color: #E2EBFA;\n",
              "      --hover-fill-color: #174EA6;\n",
              "      --disabled-fill-color: #AAA;\n",
              "      --disabled-bg-color: #DDD;\n",
              "  }\n",
              "\n",
              "  [theme=dark] .colab-df-quickchart {\n",
              "      --bg-color: #3B4455;\n",
              "      --fill-color: #D2E3FC;\n",
              "      --hover-bg-color: #434B5C;\n",
              "      --hover-fill-color: #FFFFFF;\n",
              "      --disabled-bg-color: #3B4455;\n",
              "      --disabled-fill-color: #666;\n",
              "  }\n",
              "\n",
              "  .colab-df-quickchart {\n",
              "    background-color: var(--bg-color);\n",
              "    border: none;\n",
              "    border-radius: 50%;\n",
              "    cursor: pointer;\n",
              "    display: none;\n",
              "    fill: var(--fill-color);\n",
              "    height: 32px;\n",
              "    padding: 0;\n",
              "    width: 32px;\n",
              "  }\n",
              "\n",
              "  .colab-df-quickchart:hover {\n",
              "    background-color: var(--hover-bg-color);\n",
              "    box-shadow: 0 1px 2px rgba(60, 64, 67, 0.3), 0 1px 3px 1px rgba(60, 64, 67, 0.15);\n",
              "    fill: var(--button-hover-fill-color);\n",
              "  }\n",
              "\n",
              "  .colab-df-quickchart-complete:disabled,\n",
              "  .colab-df-quickchart-complete:disabled:hover {\n",
              "    background-color: var(--disabled-bg-color);\n",
              "    fill: var(--disabled-fill-color);\n",
              "    box-shadow: none;\n",
              "  }\n",
              "\n",
              "  .colab-df-spinner {\n",
              "    border: 2px solid var(--fill-color);\n",
              "    border-color: transparent;\n",
              "    border-bottom-color: var(--fill-color);\n",
              "    animation:\n",
              "      spin 1s steps(1) infinite;\n",
              "  }\n",
              "\n",
              "  @keyframes spin {\n",
              "    0% {\n",
              "      border-color: transparent;\n",
              "      border-bottom-color: var(--fill-color);\n",
              "      border-left-color: var(--fill-color);\n",
              "    }\n",
              "    20% {\n",
              "      border-color: transparent;\n",
              "      border-left-color: var(--fill-color);\n",
              "      border-top-color: var(--fill-color);\n",
              "    }\n",
              "    30% {\n",
              "      border-color: transparent;\n",
              "      border-left-color: var(--fill-color);\n",
              "      border-top-color: var(--fill-color);\n",
              "      border-right-color: var(--fill-color);\n",
              "    }\n",
              "    40% {\n",
              "      border-color: transparent;\n",
              "      border-right-color: var(--fill-color);\n",
              "      border-top-color: var(--fill-color);\n",
              "    }\n",
              "    60% {\n",
              "      border-color: transparent;\n",
              "      border-right-color: var(--fill-color);\n",
              "    }\n",
              "    80% {\n",
              "      border-color: transparent;\n",
              "      border-right-color: var(--fill-color);\n",
              "      border-bottom-color: var(--fill-color);\n",
              "    }\n",
              "    90% {\n",
              "      border-color: transparent;\n",
              "      border-bottom-color: var(--fill-color);\n",
              "    }\n",
              "  }\n",
              "</style>\n",
              "\n",
              "  <script>\n",
              "    async function quickchart(key) {\n",
              "      const quickchartButtonEl =\n",
              "        document.querySelector('#' + key + ' button');\n",
              "      quickchartButtonEl.disabled = true;  // To prevent multiple clicks.\n",
              "      quickchartButtonEl.classList.add('colab-df-spinner');\n",
              "      try {\n",
              "        const charts = await google.colab.kernel.invokeFunction(\n",
              "            'suggestCharts', [key], {});\n",
              "      } catch (error) {\n",
              "        console.error('Error during call to suggestCharts:', error);\n",
              "      }\n",
              "      quickchartButtonEl.classList.remove('colab-df-spinner');\n",
              "      quickchartButtonEl.classList.add('colab-df-quickchart-complete');\n",
              "    }\n",
              "    (() => {\n",
              "      let quickchartButtonEl =\n",
              "        document.querySelector('#df-fda5db4f-3883-4e20-a35d-cca68caaeb6a button');\n",
              "      quickchartButtonEl.style.display =\n",
              "        google.colab.kernel.accessAllowed ? 'block' : 'none';\n",
              "    })();\n",
              "  </script>\n",
              "</div>\n",
              "\n",
              "    </div>\n",
              "  </div>\n"
            ],
            "application/vnd.google.colaboratory.intrinsic+json": {
              "type": "dataframe",
              "variable_name": "population_df"
            }
          },
          "metadata": {},
          "execution_count": 2
        }
      ],
      "source": [
        "population_df = pd.read_csv('https://raw.githubusercontent.com/Explore-AI/Public-Data/master/AnalyseProject/world_population.csv', index_col='Country Code')\n",
        "population_df.head()"
      ]
    },
    {
      "cell_type": "markdown",
      "metadata": {
        "id": "58747293"
      },
      "source": [
        "## **Exploratory Data Analysis (EDA)**\n",
        "\n",
        "In this section, we analyze global population trends over time and visualize key patterns."
      ],
      "id": "58747293"
    },
    {
      "cell_type": "code",
      "execution_count": 40,
      "metadata": {
        "colab": {
          "base_uri": "https://localhost:8080/",
          "height": 489
        },
        "id": "e2d4a7a5",
        "outputId": "c5d1ea38-f0ce-4487-ded4-276759523582"
      },
      "outputs": [
        {
          "output_type": "display_data",
          "data": {
            "text/plain": [
              "<Figure size 2000x600 with 0 Axes>"
            ]
          },
          "metadata": {}
        },
        {
          "output_type": "display_data",
          "data": {
            "text/plain": [
              "<Figure size 640x480 with 1 Axes>"
            ],
            "image/png": "[encoded data removed]"
          },
          "metadata": {}
        }
      ],
      "source": [
        "import matplotlib.pyplot as plt\n",
        "import seaborn as sns\n",
        "\n",
        "# Plot population trends for a few countries\n",
        "plt.figure(figsize=(20,6))\n",
        "selected_countries = ['USA', 'CHN', 'IND', 'BRA', 'NGA']\n",
        "population_df.loc[selected_countries].T.plot()\n",
        "plt.title('Population Growth Trends (1960-2017)')\n",
        "plt.xlabel('Year')\n",
        "plt.ylabel('Population')\n",
        "plt.legend(selected_countries)\n",
        "plt.show()"
      ],
      "id": "e2d4a7a5"
    },
    {
      "cell_type": "markdown",
      "id": "5a0b7683",
      "metadata": {
        "id": "5a0b7683",
        "tags": []
      },
      "source": [
        "### Population growth\n",
        "\n",
        "The world population data spans from 1960 to 2017. We'd like to build a predictive model that can give us the best guess at what the population growth rate in a given year might be. We will calculate the population growth rate as follows:-\n",
        "\n",
        "$$\n",
        "Growth\\_rate = \\frac{current\\_year\\_population - previous\\_year\\_population}{previous\\_year\\_population}\n",
        "$$\n",
        "\n",
        "As such, we can only calculate the growth rate for the year 1961 onwards.\n",
        "\n",
        "Write a function that takes the `population_df` and a `country_code` as input and computes the population growth rate for a given country starting from the year 1961. This function must return a return a 2-d numpy array that contains the year and corresponding growth rate for the country."
      ]
    },
    {
      "cell_type": "code",
      "execution_count": 32,
      "id": "c2ee76ec",
      "metadata": {
        "id": "c2ee76ec"
      },
      "outputs": [],
      "source": [
        "### START FUNCTION\n",
        "def get_population_growth_rate_by_country_year(df,country_code):\n",
        "    years = list(map(int, df.columns[1:]))\n",
        "    rates = [(df.loc[country_code][str(y)] - df.loc[country_code][str(y-1)])/df.loc[country_code][str(y-1)] for y in years]\n",
        "    return np.round(np.vstack([years,rates]).T,5)\n",
        "### END FUNCTION"
      ]
    },
    {
      "cell_type": "markdown",
      "id": "de3132bb",
      "metadata": {
        "id": "de3132bb"
      },
      "source": [
        "Input:"
      ]
    },
    {
      "cell_type": "code",
      "execution_count": 33,
      "id": "2cc2bcc3",
      "metadata": {
        "colab": {
          "base_uri": "https://localhost:8080/"
        },
        "id": "2cc2bcc3",
        "outputId": "b0f10beb-0463-48c0-f1c4-aaed11c0821e"
      },
      "outputs": [
        {
          "output_type": "execute_result",
          "data": {
            "text/plain": [
              "array([[ 1.961e+03,  2.263e-02],\n",
              "       [ 1.962e+03,  1.420e-02],\n",
              "       [ 1.963e+03,  8.360e-03],\n",
              "       [ 1.964e+03,  5.940e-03],\n",
              "       [ 1.965e+03,  5.750e-03],\n",
              "       [ 1.966e+03,  6.190e-03],\n",
              "       [ 1.967e+03,  5.890e-03],\n",
              "       [ 1.968e+03,  5.700e-03],\n",
              "       [ 1.969e+03,  5.820e-03],\n",
              "       [ 1.970e+03,  5.740e-03],\n",
              "       [ 1.971e+03,  6.380e-03],\n",
              "       [ 1.972e+03,  6.730e-03],\n",
              "       [ 1.973e+03,  6.730e-03],\n",
              "       [ 1.974e+03,  4.730e-03],\n",
              "       [ 1.975e+03,  2.130e-03],\n",
              "       [ 1.976e+03, -1.170e-03],\n",
              "       [ 1.977e+03, -3.630e-03],\n",
              "       [ 1.978e+03, -4.360e-03],\n",
              "       [ 1.979e+03, -2.050e-03],\n",
              "       [ 1.980e+03,  1.930e-03],\n",
              "       [ 1.981e+03,  7.840e-03],\n",
              "       [ 1.982e+03,  1.285e-02],\n",
              "       [ 1.983e+03,  1.395e-02],\n",
              "       [ 1.984e+03,  1.021e-02],\n",
              "       [ 1.985e+03,  3.020e-03],\n",
              "       [ 1.986e+03, -6.060e-03],\n",
              "       [ 1.987e+03, -1.295e-02],\n",
              "       [ 1.988e+03, -1.219e-02],\n",
              "       [ 1.989e+03, -7.700e-04],\n",
              "       [ 1.990e+03,  1.830e-02],\n",
              "       [ 1.991e+03,  3.979e-02],\n",
              "       [ 1.992e+03,  5.591e-02],\n",
              "       [ 1.993e+03,  6.256e-02],\n",
              "       [ 1.994e+03,  5.787e-02],\n",
              "       [ 1.995e+03,  4.725e-02],\n",
              "       [ 1.996e+03,  3.580e-02],\n",
              "       [ 1.997e+03,  2.706e-02],\n",
              "       [ 1.998e+03,  2.137e-02],\n",
              "       [ 1.999e+03,  1.980e-02],\n",
              "       [ 2.000e+03,  2.076e-02],\n",
              "       [ 2.001e+03,  2.251e-02],\n",
              "       [ 2.002e+03,  2.254e-02],\n",
              "       [ 2.003e+03,  2.132e-02],\n",
              "       [ 2.004e+03,  1.773e-02],\n",
              "       [ 2.005e+03,  1.311e-02],\n",
              "       [ 2.006e+03,  8.010e-03],\n",
              "       [ 2.007e+03,  3.850e-03],\n",
              "       [ 2.008e+03,  1.310e-03],\n",
              "       [ 2.009e+03,  9.900e-04],\n",
              "       [ 2.010e+03,  2.130e-03],\n",
              "       [ 2.011e+03,  3.780e-03],\n",
              "       [ 2.012e+03,  5.130e-03],\n",
              "       [ 2.013e+03,  5.950e-03],\n",
              "       [ 2.014e+03,  5.890e-03],\n",
              "       [ 2.015e+03,  5.260e-03],\n",
              "       [ 2.016e+03,  4.610e-03],\n",
              "       [ 2.017e+03,  4.220e-03]])"
            ]
          },
          "metadata": {},
          "execution_count": 33
        }
      ],
      "source": [
        "get_population_growth_rate_by_country_year(population_df,'ABW')"
      ]
    },
    {
      "cell_type": "markdown",
      "id": "dc9b7dc6",
      "metadata": {
        "id": "dc9b7dc6"
      },
      "source": [
        "### Even-odd train-test split\n",
        "\n",
        "Now that we have our data, we need to divide it into two sets: the variables we will train on and the variables we will predict on. In this scenario, we're separating the variables so that the **training set contains growth rates for even years and the test set contains growth rates for odd years**. We also need to divide our data into the predictive features (`X`) and the response features (`y`).\n",
        "\n",
        "Write a function that will take a 2-D numpy array as input and return four variables in the form of `(X_train, y_train), (X_test, y_test)`, where `(X_train, y_train)` are the features and response variables of the training set, and `(X_test, y_test)` are the features and response variables of the testing set. The training and testing data consist of even and odd years, respectively. The function should return two tuples of the form `(X_train, y_train), (X_test, y_test)`.\n",
        "\n",
        "_**Function Specifications:**_\n",
        "* Should take a 2-d numpy `array` as input.\n",
        "* Should return two `tuples` of the form `(X_train, y_train), (X_test, y_test)`.\n",
        "* `(X_train, y_train)` should consist of data from even years and `(X_test, y_test)` should consist of data from odd years."
      ]
    },
    {
      "cell_type": "code",
      "execution_count": 34,
      "id": "ae48fab0",
      "metadata": {
        "id": "ae48fab0"
      },
      "outputs": [],
      "source": [
        "### START FUNCTION\n",
        "def feature_response_split(arr):\n",
        "    even_data = np.array([[x,y] for x,y in zip(arr[:,0],arr[:,1]) if x%2==0])\n",
        "    odd_data = np.array([[x,y] for x,y in zip(arr[:,0],arr[:,1]) if x%2!=0])\n",
        "    X_train, y_train = even_data[:, 0], even_data[:, 1]\n",
        "    X_test, y_test = odd_data[:, 0], odd_data[:, 1]\n",
        "    return (X_train, y_train), (X_test, y_test)\n",
        "### END FUNCTION"
      ]
    },
    {
      "cell_type": "markdown",
      "id": "c44015d7",
      "metadata": {
        "id": "c44015d7"
      },
      "source": [
        "Input:"
      ]
    },
    {
      "cell_type": "code",
      "execution_count": 35,
      "id": "edbfa32b",
      "metadata": {
        "id": "edbfa32b"
      },
      "outputs": [],
      "source": [
        "data = get_population_growth_rate_by_country_year(population_df,'ABW');\n",
        "(X_train, y_train), (X_test, y_test) = feature_response_split(data)"
      ]
    },
    {
      "cell_type": "markdown",
      "id": "aa09265c",
      "metadata": {
        "id": "aa09265c"
      },
      "source": [
        "### Training Decision Tree Model\n",
        "\n",
        "Now that we have formatted our data, we can fit a model using sklearn's `DecisionTreeRegressor` class. We'll write a function that will take as input the features and response variables that we created in the last question, and return a trained model.\n",
        "\n",
        "_**Function Specifications:**_\n",
        "* Should take two numpy `arrays` as input in the form `(X_train, y_train)` as well as a `MaxDepth` int corresponding to the max_depth hyperparameter in decision trees.\n",
        "* Should return an sklearn `DecisionTreeRegressor` model.\n",
        "* The returned model should be fitted to the data.\n"
      ]
    },
    {
      "cell_type": "code",
      "execution_count": 36,
      "id": "22984670",
      "metadata": {
        "id": "22984670"
      },
      "outputs": [],
      "source": [
        "### START FUNCTION\n",
        "def train_model(X_train, y_train, MaxDepth):\n",
        "    lm = DecisionTreeRegressor(max_depth=MaxDepth)\n",
        "    X_train = X_train.reshape(-1, 1)\n",
        "    y_train = y_train.reshape(-1, 1)\n",
        "    lm.fit(X_train, y_train)\n",
        "    return lm\n",
        "### END FUNCTION"
      ]
    },
    {
      "cell_type": "markdown",
      "id": "90ab9f5e",
      "metadata": {
        "id": "90ab9f5e"
      },
      "source": [
        "Input:"
      ]
    },
    {
      "cell_type": "code",
      "execution_count": 37,
      "id": "52c5efb1",
      "metadata": {
        "colab": {
          "base_uri": "https://localhost:8080/"
        },
        "id": "52c5efb1",
        "outputId": "f60af793-15b9-4391-e2c8-a2ebcb2168eb"
      },
      "outputs": [
        {
          "output_type": "execute_result",
          "data": {
            "text/plain": [
              "array([0.00451333])"
            ]
          },
          "metadata": {},
          "execution_count": 37
        }
      ],
      "source": [
        "data = get_population_growth_rate_by_country_year(population_df,'ABW')\n",
        "(X_train, y_train), _ = feature_response_split(data)\n",
        "\n",
        "train_model(X_train, y_train,3).predict([[2017]])"
      ]
    },
    {
      "cell_type": "markdown",
      "id": "59712459",
      "metadata": {
        "id": "59712459"
      },
      "source": [
        "Expected output:"
      ]
    },
    {
      "cell_type": "markdown",
      "id": "14a50f5e",
      "metadata": {
        "id": "14a50f5e"
      },
      "source": [
        "### Evaluation of Model\n",
        "\n",
        "Now we would like to test our model on the testing data that we produced. This test will give the Root Mean Squared Logarithmic Error (RMSLE), which is determined by:\n",
        "\n",
        "$$\n",
        "RMSLE = \\sqrt{\\frac{1}{N}\\sum_{i=1}^N [log(1+p_i) - log(1+y_i)]^2}\n",
        "$$\n",
        "\n",
        "* *$p_i$ refers to the $i^{\\rm th}$ prediction made from `X_test`\n",
        "* $y_i$ refers to the $i^{\\rm th}$ value in `y_test`\n",
        "* $N$ is the length of `y_test`\n",
        "\n",
        "_**Function Specifications:**_\n",
        "* Should take a trained model and two `arrays` as input. This will be the `X_test` and `y_test` variables from Question 2.\n",
        "* Should calculate and return the Root Mean Squared Logarithmic Error (RMSLE) between the predicted values from `X_test` and the actual values in `y_test`.\n",
        "* The output should be a `float` rounded to 3 decimal places.\n",
        "\n"
      ]
    },
    {
      "cell_type": "code",
      "execution_count": 38,
      "id": "3b0ea2f8",
      "metadata": {
        "id": "3b0ea2f8"
      },
      "outputs": [],
      "source": [
        "### START FUNCTION\n",
        "def test_model(model, y_test, X_test):\n",
        "    predictions = model.predict(X_test.reshape(-1, 1))\n",
        "    predictions = predictions.reshape(-1)\n",
        "    rmsle = np.sqrt(np.mean((np.log(1+predictions) - np.log(1+y_test))**2))\n",
        "    return np.round(rmsle, 3)\n",
        "### END FUNCTION"
      ]
    },
    {
      "cell_type": "markdown",
      "id": "e9e50777",
      "metadata": {
        "id": "e9e50777"
      },
      "source": [
        "Input:"
      ]
    },
    {
      "cell_type": "code",
      "execution_count": 39,
      "id": "2c1d59c3",
      "metadata": {
        "colab": {
          "base_uri": "https://localhost:8080/"
        },
        "id": "2c1d59c3",
        "outputId": "7685e474-864a-43dd-b99f-24ae595217a0"
      },
      "outputs": [
        {
          "output_type": "execute_result",
          "data": {
            "text/plain": [
              "np.float64(0.008)"
            ]
          },
          "metadata": {},
          "execution_count": 39
        }
      ],
      "source": [
        "data = get_population_growth_rate_by_country_year(population_df,'ABW')\n",
        "(X_train, y_train), (X_test, y_test) = feature_response_split(data)\n",
        "lm = train_model(X_train, y_train,3)\n",
        "test_model(lm, y_test, X_test)"
      ]
    }
  ],
  "metadata": {
    "colab": {
      "provenance": [],
      "include_colab_link": true
    },
    "kernelspec": {
      "display_name": "Python 3 (ipykernel)",
      "language": "python",
      "name": "python3"
    },
    "language_info": {
      "codemirror_mode": {
        "name": "ipython",
        "version": 3
      },
      "file_extension": ".py",
      "mimetype": "text/x-python",
      "name": "python",
      "nbconvert_exporter": "python",
      "pygments_lexer": "ipython3",
      "version": "3.11.4"
    }
  },
  "nbformat": 4,
  "nbformat_minor": 5
}